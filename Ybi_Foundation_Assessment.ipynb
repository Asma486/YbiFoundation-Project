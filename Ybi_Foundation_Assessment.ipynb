{
  "nbformat": 4,
  "nbformat_minor": 0,
  "metadata": {
    "colab": {
      "provenance": [],
      "authorship_tag": "ABX9TyNXvhcYhoSAxwgJRdUo0eCw",
      "include_colab_link": true
    },
    "kernelspec": {
      "name": "python3",
      "display_name": "Python 3"
    },
    "language_info": {
      "name": "python"
    }
  },
  "cells": [
    {
      "cell_type": "markdown",
      "metadata": {
        "id": "view-in-github",
        "colab_type": "text"
      },
      "source": [
        "<a href=\"https://colab.research.google.com/github/Asma486/YbiFoundation-Project/blob/main/Ybi_Foundation_Assessment.ipynb\" target=\"_parent\"><img src=\"https://colab.research.google.com/assets/colab-badge.svg\" alt=\"Open In Colab\"/></a>"
      ]
    },
    {
      "cell_type": "markdown",
      "source": [
        "**Wine Quality Prediction Using Random Forest**"
      ],
      "metadata": {
        "id": "pSfRAjSdMLIb"
      }
    },
    {
      "cell_type": "markdown",
      "source": [
        "**Installaton Of Pyspark**"
      ],
      "metadata": {
        "id": "rU7SfyS_MLCM"
      }
    },
    {
      "cell_type": "code",
      "execution_count": 23,
      "metadata": {
        "colab": {
          "base_uri": "https://localhost:8080/"
        },
        "id": "zDZq4jgzCOqa",
        "outputId": "5ecad4a2-d7a8-453e-adda-b851f0bd1381"
      },
      "outputs": [
        {
          "output_type": "stream",
          "name": "stdout",
          "text": [
            "Requirement already satisfied: Pyspark in /usr/local/lib/python3.10/dist-packages (3.5.1)\n",
            "Requirement already satisfied: py4j==0.10.9.7 in /usr/local/lib/python3.10/dist-packages (from Pyspark) (0.10.9.7)\n"
          ]
        }
      ],
      "source": [
        "# install\n",
        "!pip install Pyspark"
      ]
    },
    {
      "cell_type": "markdown",
      "source": [
        "**Starting Spark Session**"
      ],
      "metadata": {
        "id": "GHgrn9GOMKNg"
      }
    },
    {
      "cell_type": "code",
      "source": [
        "# start spark session\n",
        "from pyspark.sql import SparkSession"
      ],
      "metadata": {
        "id": "3C85mkCjCZ08"
      },
      "execution_count": 24,
      "outputs": []
    },
    {
      "cell_type": "code",
      "source": [
        "spark=SparkSession.builder.getOrCreate()"
      ],
      "metadata": {
        "id": "cL80eWNTCyTV"
      },
      "execution_count": 25,
      "outputs": []
    },
    {
      "cell_type": "code",
      "source": [
        "spark"
      ],
      "metadata": {
        "colab": {
          "base_uri": "https://localhost:8080/",
          "height": 219
        },
        "id": "wA9I61x-DA-t",
        "outputId": "0ad7018d-44dd-457f-8220-1c33cc87b5d2"
      },
      "execution_count": 26,
      "outputs": [
        {
          "output_type": "execute_result",
          "data": {
            "text/plain": [
              "<pyspark.sql.session.SparkSession at 0x7d5a70253730>"
            ],
            "text/html": [
              "\n",
              "            <div>\n",
              "                <p><b>SparkSession - in-memory</b></p>\n",
              "                \n",
              "        <div>\n",
              "            <p><b>SparkContext</b></p>\n",
              "\n",
              "            <p><a href=\"http://14cdbcbee25d:4040\">Spark UI</a></p>\n",
              "\n",
              "            <dl>\n",
              "              <dt>Version</dt>\n",
              "                <dd><code>v3.5.1</code></dd>\n",
              "              <dt>Master</dt>\n",
              "                <dd><code>local[*]</code></dd>\n",
              "              <dt>AppName</dt>\n",
              "                <dd><code>pyspark-shell</code></dd>\n",
              "            </dl>\n",
              "        </div>\n",
              "        \n",
              "            </div>\n",
              "        "
            ]
          },
          "metadata": {},
          "execution_count": 26
        }
      ]
    },
    {
      "cell_type": "markdown",
      "source": [
        "**Import Libraries And Data**"
      ],
      "metadata": {
        "id": "oDnlKZI5M_u4"
      }
    },
    {
      "cell_type": "code",
      "source": [
        "# read sklearn inbuilt data\n",
        "import pandas as pd\n",
        "import numpy as np\n",
        "from sklearn.datasets import load_wine\n",
        "wine = load_wine(as_frame=True)\n",
        "wine = wine.frame\n",
        "wine = spark.createDataFrame(wine)"
      ],
      "metadata": {
        "id": "l-BUbrhJDHLa"
      },
      "execution_count": 27,
      "outputs": []
    },
    {
      "cell_type": "code",
      "source": [
        "wine.show()"
      ],
      "metadata": {
        "colab": {
          "base_uri": "https://localhost:8080/"
        },
        "id": "3ua5WvbvDNty",
        "outputId": "b439b189-c7c6-4b7e-c5bf-3d8cc6eb15fd"
      },
      "execution_count": 28,
      "outputs": [
        {
          "output_type": "stream",
          "name": "stdout",
          "text": [
            "+-------+----------+----+-----------------+---------+-------------+----------+--------------------+---------------+---------------+----+----------------------------+-------+------+\n",
            "|alcohol|malic_acid| ash|alcalinity_of_ash|magnesium|total_phenols|flavanoids|nonflavanoid_phenols|proanthocyanins|color_intensity| hue|od280/od315_of_diluted_wines|proline|target|\n",
            "+-------+----------+----+-----------------+---------+-------------+----------+--------------------+---------------+---------------+----+----------------------------+-------+------+\n",
            "|  14.23|      1.71|2.43|             15.6|    127.0|          2.8|      3.06|                0.28|           2.29|           5.64|1.04|                        3.92| 1065.0|     0|\n",
            "|   13.2|      1.78|2.14|             11.2|    100.0|         2.65|      2.76|                0.26|           1.28|           4.38|1.05|                         3.4| 1050.0|     0|\n",
            "|  13.16|      2.36|2.67|             18.6|    101.0|          2.8|      3.24|                 0.3|           2.81|           5.68|1.03|                        3.17| 1185.0|     0|\n",
            "|  14.37|      1.95| 2.5|             16.8|    113.0|         3.85|      3.49|                0.24|           2.18|            7.8|0.86|                        3.45| 1480.0|     0|\n",
            "|  13.24|      2.59|2.87|             21.0|    118.0|          2.8|      2.69|                0.39|           1.82|           4.32|1.04|                        2.93|  735.0|     0|\n",
            "|   14.2|      1.76|2.45|             15.2|    112.0|         3.27|      3.39|                0.34|           1.97|           6.75|1.05|                        2.85| 1450.0|     0|\n",
            "|  14.39|      1.87|2.45|             14.6|     96.0|          2.5|      2.52|                 0.3|           1.98|           5.25|1.02|                        3.58| 1290.0|     0|\n",
            "|  14.06|      2.15|2.61|             17.6|    121.0|          2.6|      2.51|                0.31|           1.25|           5.05|1.06|                        3.58| 1295.0|     0|\n",
            "|  14.83|      1.64|2.17|             14.0|     97.0|          2.8|      2.98|                0.29|           1.98|            5.2|1.08|                        2.85| 1045.0|     0|\n",
            "|  13.86|      1.35|2.27|             16.0|     98.0|         2.98|      3.15|                0.22|           1.85|           7.22|1.01|                        3.55| 1045.0|     0|\n",
            "|   14.1|      2.16| 2.3|             18.0|    105.0|         2.95|      3.32|                0.22|           2.38|           5.75|1.25|                        3.17| 1510.0|     0|\n",
            "|  14.12|      1.48|2.32|             16.8|     95.0|          2.2|      2.43|                0.26|           1.57|            5.0|1.17|                        2.82| 1280.0|     0|\n",
            "|  13.75|      1.73|2.41|             16.0|     89.0|          2.6|      2.76|                0.29|           1.81|            5.6|1.15|                         2.9| 1320.0|     0|\n",
            "|  14.75|      1.73|2.39|             11.4|     91.0|          3.1|      3.69|                0.43|           2.81|            5.4|1.25|                        2.73| 1150.0|     0|\n",
            "|  14.38|      1.87|2.38|             12.0|    102.0|          3.3|      3.64|                0.29|           2.96|            7.5| 1.2|                         3.0| 1547.0|     0|\n",
            "|  13.63|      1.81| 2.7|             17.2|    112.0|         2.85|      2.91|                 0.3|           1.46|            7.3|1.28|                        2.88| 1310.0|     0|\n",
            "|   14.3|      1.92|2.72|             20.0|    120.0|          2.8|      3.14|                0.33|           1.97|            6.2|1.07|                        2.65| 1280.0|     0|\n",
            "|  13.83|      1.57|2.62|             20.0|    115.0|         2.95|       3.4|                 0.4|           1.72|            6.6|1.13|                        2.57| 1130.0|     0|\n",
            "|  14.19|      1.59|2.48|             16.5|    108.0|          3.3|      3.93|                0.32|           1.86|            8.7|1.23|                        2.82| 1680.0|     0|\n",
            "|  13.64|       3.1|2.56|             15.2|    116.0|          2.7|      3.03|                0.17|           1.66|            5.1|0.96|                        3.36|  845.0|     0|\n",
            "+-------+----------+----+-----------------+---------+-------------+----------+--------------------+---------------+---------------+----+----------------------------+-------+------+\n",
            "only showing top 20 rows\n",
            "\n"
          ]
        }
      ]
    },
    {
      "cell_type": "code",
      "source": [
        "wine.printSchema()"
      ],
      "metadata": {
        "colab": {
          "base_uri": "https://localhost:8080/"
        },
        "id": "lHbPjgRwDSaD",
        "outputId": "f896564a-0ab5-42f6-bd47-ef353e6450ad"
      },
      "execution_count": 29,
      "outputs": [
        {
          "output_type": "stream",
          "name": "stdout",
          "text": [
            "root\n",
            " |-- alcohol: double (nullable = true)\n",
            " |-- malic_acid: double (nullable = true)\n",
            " |-- ash: double (nullable = true)\n",
            " |-- alcalinity_of_ash: double (nullable = true)\n",
            " |-- magnesium: double (nullable = true)\n",
            " |-- total_phenols: double (nullable = true)\n",
            " |-- flavanoids: double (nullable = true)\n",
            " |-- nonflavanoid_phenols: double (nullable = true)\n",
            " |-- proanthocyanins: double (nullable = true)\n",
            " |-- color_intensity: double (nullable = true)\n",
            " |-- hue: double (nullable = true)\n",
            " |-- od280/od315_of_diluted_wines: double (nullable = true)\n",
            " |-- proline: double (nullable = true)\n",
            " |-- target: long (nullable = true)\n",
            "\n"
          ]
        }
      ]
    },
    {
      "cell_type": "code",
      "source": [
        "wine.columns"
      ],
      "metadata": {
        "colab": {
          "base_uri": "https://localhost:8080/"
        },
        "id": "B3_M6En0Daso",
        "outputId": "98ae4e99-064d-491e-ad94-a33596ce25bb"
      },
      "execution_count": 30,
      "outputs": [
        {
          "output_type": "execute_result",
          "data": {
            "text/plain": [
              "['alcohol',\n",
              " 'malic_acid',\n",
              " 'ash',\n",
              " 'alcalinity_of_ash',\n",
              " 'magnesium',\n",
              " 'total_phenols',\n",
              " 'flavanoids',\n",
              " 'nonflavanoid_phenols',\n",
              " 'proanthocyanins',\n",
              " 'color_intensity',\n",
              " 'hue',\n",
              " 'od280/od315_of_diluted_wines',\n",
              " 'proline',\n",
              " 'target']"
            ]
          },
          "metadata": {},
          "execution_count": 30
        }
      ]
    },
    {
      "cell_type": "markdown",
      "source": [
        "**Data Preprocessing**"
      ],
      "metadata": {
        "id": "h1z0UXmgN9AX"
      }
    },
    {
      "cell_type": "code",
      "source": [
        "from pyspark.ml.feature import VectorAssembler"
      ],
      "metadata": {
        "id": "O1rY9sAoDd0r"
      },
      "execution_count": 31,
      "outputs": []
    },
    {
      "cell_type": "code",
      "source": [
        "featureassembler= VectorAssembler(inputCols=['alcohol',\n",
        " 'malic_acid',\n",
        " 'ash',\n",
        " 'alcalinity_of_ash',\n",
        " 'magnesium',\n",
        " 'total_phenols',\n",
        " 'flavanoids',\n",
        " 'nonflavanoid_phenols',\n",
        " 'proanthocyanins',\n",
        " 'color_intensity',\n",
        " 'hue',\n",
        " 'od280/od315_of_diluted_wines',\n",
        " 'proline'], outputCol='Features')"
      ],
      "metadata": {
        "id": "HarwxhFcDiuB"
      },
      "execution_count": 32,
      "outputs": []
    },
    {
      "cell_type": "code",
      "source": [
        "output = featureassembler.transform(wine)"
      ],
      "metadata": {
        "id": "QEdsh75MDm-d"
      },
      "execution_count": 33,
      "outputs": []
    },
    {
      "cell_type": "code",
      "source": [
        "output.show()"
      ],
      "metadata": {
        "colab": {
          "base_uri": "https://localhost:8080/"
        },
        "id": "8J2l1fazDqLk",
        "outputId": "81593a4e-5574-4cca-c456-a98f9c8c3b78"
      },
      "execution_count": 34,
      "outputs": [
        {
          "output_type": "stream",
          "name": "stdout",
          "text": [
            "+-------+----------+----+-----------------+---------+-------------+----------+--------------------+---------------+---------------+----+----------------------------+-------+------+--------------------+\n",
            "|alcohol|malic_acid| ash|alcalinity_of_ash|magnesium|total_phenols|flavanoids|nonflavanoid_phenols|proanthocyanins|color_intensity| hue|od280/od315_of_diluted_wines|proline|target|            Features|\n",
            "+-------+----------+----+-----------------+---------+-------------+----------+--------------------+---------------+---------------+----+----------------------------+-------+------+--------------------+\n",
            "|  14.23|      1.71|2.43|             15.6|    127.0|          2.8|      3.06|                0.28|           2.29|           5.64|1.04|                        3.92| 1065.0|     0|[14.23,1.71,2.43,...|\n",
            "|   13.2|      1.78|2.14|             11.2|    100.0|         2.65|      2.76|                0.26|           1.28|           4.38|1.05|                         3.4| 1050.0|     0|[13.2,1.78,2.14,1...|\n",
            "|  13.16|      2.36|2.67|             18.6|    101.0|          2.8|      3.24|                 0.3|           2.81|           5.68|1.03|                        3.17| 1185.0|     0|[13.16,2.36,2.67,...|\n",
            "|  14.37|      1.95| 2.5|             16.8|    113.0|         3.85|      3.49|                0.24|           2.18|            7.8|0.86|                        3.45| 1480.0|     0|[14.37,1.95,2.5,1...|\n",
            "|  13.24|      2.59|2.87|             21.0|    118.0|          2.8|      2.69|                0.39|           1.82|           4.32|1.04|                        2.93|  735.0|     0|[13.24,2.59,2.87,...|\n",
            "|   14.2|      1.76|2.45|             15.2|    112.0|         3.27|      3.39|                0.34|           1.97|           6.75|1.05|                        2.85| 1450.0|     0|[14.2,1.76,2.45,1...|\n",
            "|  14.39|      1.87|2.45|             14.6|     96.0|          2.5|      2.52|                 0.3|           1.98|           5.25|1.02|                        3.58| 1290.0|     0|[14.39,1.87,2.45,...|\n",
            "|  14.06|      2.15|2.61|             17.6|    121.0|          2.6|      2.51|                0.31|           1.25|           5.05|1.06|                        3.58| 1295.0|     0|[14.06,2.15,2.61,...|\n",
            "|  14.83|      1.64|2.17|             14.0|     97.0|          2.8|      2.98|                0.29|           1.98|            5.2|1.08|                        2.85| 1045.0|     0|[14.83,1.64,2.17,...|\n",
            "|  13.86|      1.35|2.27|             16.0|     98.0|         2.98|      3.15|                0.22|           1.85|           7.22|1.01|                        3.55| 1045.0|     0|[13.86,1.35,2.27,...|\n",
            "|   14.1|      2.16| 2.3|             18.0|    105.0|         2.95|      3.32|                0.22|           2.38|           5.75|1.25|                        3.17| 1510.0|     0|[14.1,2.16,2.3,18...|\n",
            "|  14.12|      1.48|2.32|             16.8|     95.0|          2.2|      2.43|                0.26|           1.57|            5.0|1.17|                        2.82| 1280.0|     0|[14.12,1.48,2.32,...|\n",
            "|  13.75|      1.73|2.41|             16.0|     89.0|          2.6|      2.76|                0.29|           1.81|            5.6|1.15|                         2.9| 1320.0|     0|[13.75,1.73,2.41,...|\n",
            "|  14.75|      1.73|2.39|             11.4|     91.0|          3.1|      3.69|                0.43|           2.81|            5.4|1.25|                        2.73| 1150.0|     0|[14.75,1.73,2.39,...|\n",
            "|  14.38|      1.87|2.38|             12.0|    102.0|          3.3|      3.64|                0.29|           2.96|            7.5| 1.2|                         3.0| 1547.0|     0|[14.38,1.87,2.38,...|\n",
            "|  13.63|      1.81| 2.7|             17.2|    112.0|         2.85|      2.91|                 0.3|           1.46|            7.3|1.28|                        2.88| 1310.0|     0|[13.63,1.81,2.7,1...|\n",
            "|   14.3|      1.92|2.72|             20.0|    120.0|          2.8|      3.14|                0.33|           1.97|            6.2|1.07|                        2.65| 1280.0|     0|[14.3,1.92,2.72,2...|\n",
            "|  13.83|      1.57|2.62|             20.0|    115.0|         2.95|       3.4|                 0.4|           1.72|            6.6|1.13|                        2.57| 1130.0|     0|[13.83,1.57,2.62,...|\n",
            "|  14.19|      1.59|2.48|             16.5|    108.0|          3.3|      3.93|                0.32|           1.86|            8.7|1.23|                        2.82| 1680.0|     0|[14.19,1.59,2.48,...|\n",
            "|  13.64|       3.1|2.56|             15.2|    116.0|          2.7|      3.03|                0.17|           1.66|            5.1|0.96|                        3.36|  845.0|     0|[13.64,3.1,2.56,1...|\n",
            "+-------+----------+----+-----------------+---------+-------------+----------+--------------------+---------------+---------------+----+----------------------------+-------+------+--------------------+\n",
            "only showing top 20 rows\n",
            "\n"
          ]
        }
      ]
    },
    {
      "cell_type": "markdown",
      "source": [
        "**Define Target Variable And Feature Variables**"
      ],
      "metadata": {
        "id": "h7LeCBEDOL8j"
      }
    },
    {
      "cell_type": "code",
      "source": [
        "modeldata=output.select('Features','target')"
      ],
      "metadata": {
        "id": "W3iiB6ShDuX0"
      },
      "execution_count": 35,
      "outputs": []
    },
    {
      "cell_type": "code",
      "source": [
        "modeldata.show()"
      ],
      "metadata": {
        "colab": {
          "base_uri": "https://localhost:8080/"
        },
        "id": "KjDrY_P6D0lQ",
        "outputId": "459aa128-1fc5-4d9e-8d89-af43cbf91e62"
      },
      "execution_count": 36,
      "outputs": [
        {
          "output_type": "stream",
          "name": "stdout",
          "text": [
            "+--------------------+------+\n",
            "|            Features|target|\n",
            "+--------------------+------+\n",
            "|[14.23,1.71,2.43,...|     0|\n",
            "|[13.2,1.78,2.14,1...|     0|\n",
            "|[13.16,2.36,2.67,...|     0|\n",
            "|[14.37,1.95,2.5,1...|     0|\n",
            "|[13.24,2.59,2.87,...|     0|\n",
            "|[14.2,1.76,2.45,1...|     0|\n",
            "|[14.39,1.87,2.45,...|     0|\n",
            "|[14.06,2.15,2.61,...|     0|\n",
            "|[14.83,1.64,2.17,...|     0|\n",
            "|[13.86,1.35,2.27,...|     0|\n",
            "|[14.1,2.16,2.3,18...|     0|\n",
            "|[14.12,1.48,2.32,...|     0|\n",
            "|[13.75,1.73,2.41,...|     0|\n",
            "|[14.75,1.73,2.39,...|     0|\n",
            "|[14.38,1.87,2.38,...|     0|\n",
            "|[13.63,1.81,2.7,1...|     0|\n",
            "|[14.3,1.92,2.72,2...|     0|\n",
            "|[13.83,1.57,2.62,...|     0|\n",
            "|[14.19,1.59,2.48,...|     0|\n",
            "|[13.64,3.1,2.56,1...|     0|\n",
            "+--------------------+------+\n",
            "only showing top 20 rows\n",
            "\n"
          ]
        }
      ]
    },
    {
      "cell_type": "markdown",
      "source": [
        "**Train Test Split**"
      ],
      "metadata": {
        "id": "0nZiiLMBOXcY"
      }
    },
    {
      "cell_type": "code",
      "source": [
        "# split data\n",
        "train_data,test_data=modeldata.randomSplit([0.8,0.2])"
      ],
      "metadata": {
        "id": "I_oq6c2ED3MB"
      },
      "execution_count": 37,
      "outputs": []
    },
    {
      "cell_type": "code",
      "source": [
        "train_data.show()"
      ],
      "metadata": {
        "colab": {
          "base_uri": "https://localhost:8080/"
        },
        "id": "HNbcRFAWD8rZ",
        "outputId": "859a6053-83dc-4c35-e5ce-a242df5cbf2e"
      },
      "execution_count": 38,
      "outputs": [
        {
          "output_type": "stream",
          "name": "stdout",
          "text": [
            "+--------------------+------+\n",
            "|            Features|target|\n",
            "+--------------------+------+\n",
            "|[11.64,2.06,2.46,...|     1|\n",
            "|[11.65,1.67,2.62,...|     1|\n",
            "|[11.66,1.88,1.92,...|     1|\n",
            "|[11.84,0.89,2.58,...|     1|\n",
            "|[11.96,1.09,2.3,2...|     1|\n",
            "|[12.0,0.92,2.0,19...|     1|\n",
            "|[12.08,1.13,2.51,...|     1|\n",
            "|[12.16,1.61,2.31,...|     1|\n",
            "|[12.17,1.45,2.53,...|     1|\n",
            "|[12.21,1.19,1.75,...|     1|\n",
            "|[12.29,1.61,2.21,...|     1|\n",
            "|[12.33,0.99,1.95,...|     1|\n",
            "|[12.37,1.13,2.16,...|     1|\n",
            "|[12.37,1.21,2.56,...|     1|\n",
            "|[12.64,1.36,2.02,...|     1|\n",
            "|[12.67,0.98,2.24,...|     1|\n",
            "|[12.7,3.87,2.4,23...|     1|\n",
            "|[12.72,1.81,2.2,1...|     1|\n",
            "|[12.93,3.8,2.65,1...|     0|\n",
            "|[13.05,1.65,2.55,...|     0|\n",
            "+--------------------+------+\n",
            "only showing top 20 rows\n",
            "\n"
          ]
        }
      ]
    },
    {
      "cell_type": "markdown",
      "source": [
        "**Modeling**"
      ],
      "metadata": {
        "id": "CqQLBcdwOdzg"
      }
    },
    {
      "cell_type": "code",
      "source": [
        "# Random Forest classification model\n",
        "from pyspark.ml.classification import RandomForestClassifier\n",
        "rf = RandomForestClassifier(featuresCol='Features', labelCol='target')\n",
        "rf = rf.fit(train_data)"
      ],
      "metadata": {
        "id": "bQ3i_PlvD_W1"
      },
      "execution_count": 39,
      "outputs": []
    },
    {
      "cell_type": "markdown",
      "source": [
        "**Prediction**"
      ],
      "metadata": {
        "id": "hEpQlsFxO2ex"
      }
    },
    {
      "cell_type": "code",
      "source": [
        "# prediction\n",
        "y_pred = rf.transform(test_data)\n",
        "y_pred.show()"
      ],
      "metadata": {
        "colab": {
          "base_uri": "https://localhost:8080/"
        },
        "id": "6rCwKXh1EJsk",
        "outputId": "2386d091-fb7d-4219-c585-b1037edc1e47"
      },
      "execution_count": 40,
      "outputs": [
        {
          "output_type": "stream",
          "name": "stdout",
          "text": [
            "+--------------------+------+--------------------+--------------------+----------+\n",
            "|            Features|target|       rawPrediction|         probability|prediction|\n",
            "+--------------------+------+--------------------+--------------------+----------+\n",
            "|[11.84,2.89,2.23,...|     1|      [0.0,18.0,2.0]|       [0.0,0.9,0.1]|       1.0|\n",
            "|[12.33,1.1,2.28,1...|     1|[0.02439024390243...|[0.00121951219512...|       1.0|\n",
            "|[12.37,0.94,1.36,...|     1|[1.02439024390243...|[0.05121951219512...|       1.0|\n",
            "|[12.37,1.17,1.92,...|     1|[1.02439024390243...|[0.05121951219512...|       1.0|\n",
            "|[12.85,1.6,2.52,1...|     0|      [19.0,1.0,0.0]|     [0.95,0.05,0.0]|       0.0|\n",
            "|[12.99,1.67,2.6,3...|     1|      [16.0,4.0,0.0]|       [0.8,0.2,0.0]|       0.0|\n",
            "|[13.03,0.9,1.71,1...|     1|[4.02439024390243...|[0.20121951219512...|       1.0|\n",
            "|[13.05,1.73,2.04,...|     0|      [17.5,2.5,0.0]|   [0.875,0.125,0.0]|       0.0|\n",
            "|[13.16,2.36,2.67,...|     0|      [19.0,1.0,0.0]|     [0.95,0.05,0.0]|       0.0|\n",
            "|[13.28,1.64,2.84,...|     0|      [19.0,1.0,0.0]|     [0.95,0.05,0.0]|       0.0|\n",
            "|[13.63,1.81,2.7,1...|     0|      [20.0,0.0,0.0]|       [1.0,0.0,0.0]|       0.0|\n",
            "|[13.64,3.1,2.56,1...|     0|      [20.0,0.0,0.0]|       [1.0,0.0,0.0]|       0.0|\n",
            "|[13.82,1.75,2.42,...|     0|      [19.0,1.0,0.0]|     [0.95,0.05,0.0]|       0.0|\n",
            "|[13.83,1.57,2.62,...|     0|      [20.0,0.0,0.0]|       [1.0,0.0,0.0]|       0.0|\n",
            "|[13.83,1.65,2.6,1...|     0|      [20.0,0.0,0.0]|       [1.0,0.0,0.0]|       0.0|\n",
            "|[13.86,1.35,2.27,...|     0|      [20.0,0.0,0.0]|       [1.0,0.0,0.0]|       0.0|\n",
            "|[11.03,1.51,2.2,2...|     1|[0.02439024390243...|[0.00121951219512...|       1.0|\n",
            "|[11.62,1.99,2.28,...|     1|[1.02439024390243...|[0.05121951219512...|       1.0|\n",
            "|[12.08,1.83,2.32,...|     1|      [0.0,20.0,0.0]|       [0.0,1.0,0.0]|       1.0|\n",
            "|[12.29,2.83,2.22,...|     1|[1.02439024390243...|[0.05121951219512...|       1.0|\n",
            "+--------------------+------+--------------------+--------------------+----------+\n",
            "only showing top 20 rows\n",
            "\n"
          ]
        }
      ]
    },
    {
      "cell_type": "markdown",
      "source": [
        "**Confusion Matrix**"
      ],
      "metadata": {
        "id": "pZshe_YYPDb6"
      }
    },
    {
      "cell_type": "code",
      "source": [
        "# confusion matrix\n",
        "y_pred.groupBy('target', 'prediction').count().show()"
      ],
      "metadata": {
        "colab": {
          "base_uri": "https://localhost:8080/"
        },
        "id": "-lPb0a5vERsP",
        "outputId": "d337132c-bae4-4c21-bcdf-4b06bc891b1b"
      },
      "execution_count": 41,
      "outputs": [
        {
          "output_type": "stream",
          "name": "stdout",
          "text": [
            "+------+----------+-----+\n",
            "|target|prediction|count|\n",
            "+------+----------+-----+\n",
            "|     1|       0.0|    1|\n",
            "|     0|       0.0|   10|\n",
            "|     1|       1.0|   12|\n",
            "|     2|       2.0|    7|\n",
            "+------+----------+-----+\n",
            "\n"
          ]
        }
      ]
    },
    {
      "cell_type": "code",
      "source": [
        "from sklearn.metrics import confusion_matrix\n",
        "pred=y_pred.select(\"prediction\").collect()\n",
        "orig=y_pred.select(\"target\").collect()\n",
        "print(confusion_matrix(orig, pred))"
      ],
      "metadata": {
        "colab": {
          "base_uri": "https://localhost:8080/"
        },
        "id": "90Dg-j6QEWI5",
        "outputId": "05148988-ab20-40dc-e196-5bf5b209a30f"
      },
      "execution_count": 42,
      "outputs": [
        {
          "output_type": "stream",
          "name": "stdout",
          "text": [
            "[[10  0  0]\n",
            " [ 1 12  0]\n",
            " [ 0  0  7]]\n"
          ]
        }
      ]
    },
    {
      "cell_type": "markdown",
      "source": [
        "**Model Evaluation And Prediction**"
      ],
      "metadata": {
        "id": "fg-NXoLlPR1K"
      }
    },
    {
      "cell_type": "code",
      "source": [
        "# evaluation\n",
        "from pyspark.ml.evaluation import MulticlassClassificationEvaluator\n",
        "\n",
        "evaluator = MulticlassClassificationEvaluator(\n",
        "    labelCol='target', predictionCol='prediction')\n",
        "\n",
        "accuracy = evaluator.evaluate(y_pred)\n",
        "accuracy"
      ],
      "metadata": {
        "colab": {
          "base_uri": "https://localhost:8080/"
        },
        "id": "334bjQe5EdZQ",
        "outputId": "5218f311-6e60-4618-8e83-727224239c4a"
      },
      "execution_count": 43,
      "outputs": [
        {
          "output_type": "execute_result",
          "data": {
            "text/plain": [
              "0.9667936507936508"
            ]
          },
          "metadata": {},
          "execution_count": 43
        }
      ]
    },
    {
      "cell_type": "code",
      "source": [
        "# close connection to spark\n",
        "spark.stop()"
      ],
      "metadata": {
        "id": "6ZcYcZDpEn7N"
      },
      "execution_count": 44,
      "outputs": []
    },
    {
      "cell_type": "code",
      "source": [],
      "metadata": {
        "id": "LMDhXjN9EtDs"
      },
      "execution_count": null,
      "outputs": []
    }
  ]
}